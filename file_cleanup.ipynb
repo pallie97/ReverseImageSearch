{
 "cells": [
  {
   "cell_type": "code",
   "execution_count": null,
   "id": "7f991400-7280-447e-9b48-8122f0b24738",
   "metadata": {},
   "outputs": [],
   "source": [
    "import os\n",
    "import shutil\n",
    "from labels import labels"
   ]
  },
  {
   "cell_type": "markdown",
   "id": "21109487-677b-44d0-b81c-602b9de0c9cb",
   "metadata": {},
   "source": [
    "We have to reorder the pictures so that they are in the right order for the FAISS index. Otherwise, it will return the wrong picture. We will then use the cleaned up and reordered image folder, 'new_id', for the index. "
   ]
  },
  {
   "cell_type": "code",
   "execution_count": null,
   "id": "dfc63348-cab6-412b-b981-b1852f9549b4",
   "metadata": {},
   "outputs": [],
   "source": [
    "# put the images in class folders\n",
    "directory = r'.\\\\pets\\\\oxford-iiit-pet\\\\images'\n",
    "new_directory = r'.\\\\ImageFolder'\n",
    "i=0\n",
    "for label in labels:  \n",
    "    os.mkdir(os.path.join(new_directory, str(i).zfill(4)))\n",
    "    for image in os.listdir(directory):\n",
    "        if (str(image).rsplit('_',1)[0] == label):\n",
    "            source = directory + '/' + image\n",
    "            destination = os.path.join(new_directory, str(i).zfill(4),image)\n",
    "            shutil.copy(source, destination)\n",
    "    i+=1;"
   ]
  },
  {
   "cell_type": "code",
   "execution_count": null,
   "id": "621c0132-0e04-4ce8-8876-9b894c2aee5e",
   "metadata": {},
   "outputs": [],
   "source": [
    "# now move back in correct order\n",
    "\n",
    "directory = r'.\\ImageFolder\\\\'\n",
    "new_directory = r'.\\new_id'\n",
    "\n",
    "\n",
    "i=0\n",
    "for folder in os.listdir(directory):\n",
    "    for image in os.listdir(directory + '/'+folder):\n",
    "        source = directory +folder + '/' + image\n",
    "        destination = new_directory  + image\n",
    "        shutil.copy(source, destination)\n",
    "        os.rename(destination ,os.path.join(new_directory, str(i)+\".jpg\"))\n",
    "        i+=1"
   ]
  }
 ],
 "metadata": {
  "kernelspec": {
   "display_name": "Python 3 (ipykernel)",
   "language": "python",
   "name": "python3"
  },
  "language_info": {
   "codemirror_mode": {
    "name": "ipython",
    "version": 3
   },
   "file_extension": ".py",
   "mimetype": "text/x-python",
   "name": "python",
   "nbconvert_exporter": "python",
   "pygments_lexer": "ipython3",
   "version": "3.7.10"
  }
 },
 "nbformat": 4,
 "nbformat_minor": 5
}
